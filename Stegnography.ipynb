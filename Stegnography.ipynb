{
 "cells": [
  {
   "cell_type": "code",
   "execution_count": 4,
   "metadata": {},
   "outputs": [
    {
     "name": "stdout",
     "output_type": "stream",
     "text": [
      "The mode of the image is not RGB. Mode is L\n",
      "helllo there how is it going in there?\n"
     ]
    }
   ],
   "source": [
    "from stegano import lsb\n",
    "\n",
    "# Encoding a message in an image\n",
    "secret_message = input(\"Enter the message to be encoded: \")\n",
    "image = \"./input.png\"\n",
    "encoded_image = lsb.hide(image, secret_message,auto_convert_rgb=True)\n",
    "encoded_image.save(\"output_file.png\")\n",
    "\n",
    "# Decoding the message from the encoded image\n",
    "encoded_image = \"output_file.png\"\n",
    "decoded_message = lsb.reveal(encoded_image)\n",
    "print(decoded_message)\n"
   ]
  },
  {
   "cell_type": "code",
   "execution_count": 43,
   "metadata": {},
   "outputs": [],
   "source": [
    "import cv2\n",
    "from stegano import lsb\n",
    "import os\n",
    "\n",
    "message = \"Hello World\"\n",
    "cap = cv2.VideoCapture(\"./filtered-B78ED74C-D85F-481B-B594-6829314D17DD.mp4\")\n",
    "counter = 0\n",
    "frames = []\n",
    "\n",
    "#if video folder not present, create it\n",
    "if not os.path.exists(\"./video\"):\n",
    "    os.mkdir(\"./video\")\n",
    "#if present remove all files\n",
    "else:\n",
    "    for file in os.listdir(\"./video\"):\n",
    "        os.remove(f\"./video/{file}\")\n",
    "\n",
    "while True:\n",
    "    ret, frame = cap.read()\n",
    "    if not ret:\n",
    "        break\n",
    "    #create images from frames\n",
    "    cv2.imwrite(f\"./video/frame_{counter}.png\", frame)\n",
    "    counter += 1\n",
    "\n",
    "encoded_frame = lsb.hide(f\"./video/frame_0.png\", message, auto_convert_rgb=True)\n",
    "#save the encoded frame\n",
    "encoded_frame.save(\"./video/frame_0.png\")\n",
    "#create video using images\n",
    "for i in range(counter):\n",
    "    img = cv2.imread(f\"./video/frame_{i}.png\")\n",
    "    height, width, layers = img.shape\n",
    "    if i == 0:\n",
    "        size = (width,height)\n",
    "    frames.append(img)\n",
    "\n",
    "out = cv2.VideoWriter('output.avi',cv2.VideoWriter_fourcc(*'FFV1'), cap.get(cv2.CAP_PROP_FPS), size)\n",
    "for i in range(len(frames)):\n",
    "    out.write(frames[i])\n",
    "out.release()\n",
    "#read the video\n",
    "with open(\"output.avi\", \"rb\") as video:\n",
    "    data = video.read()\n"
   ]
  },
  {
   "cell_type": "code",
   "execution_count": 45,
   "metadata": {},
   "outputs": [
    {
     "name": "stdout",
     "output_type": "stream",
     "text": [
      "Hello World\n"
     ]
    }
   ],
   "source": [
    "with open(\"recieved_video.avi\", \"wb\") as video:\n",
    "    video.write(data)\n",
    "\n",
    "#if video folder not present, create it\n",
    "if not os.path.exists(\"./recieved_video\"):\n",
    "    os.mkdir(\"./recieved_video\")\n",
    "#if present remove all files\n",
    "else:\n",
    "    for file in os.listdir(\"./recieved_video\"):\n",
    "        os.remove(f\"./recieved_video/{file}\")\n",
    "        \n",
    "cap = cv2.VideoCapture(\"./recieved_video.avi\")\n",
    "\n",
    "ret, frame = cap.read()\n",
    "if ret:\n",
    "    #create images from frames\n",
    "    cv2.imwrite(f\"./recieved_video/frame_0.png\", frame)\n",
    "    #decode the message\n",
    "    decoded_message = lsb.reveal(f\"./recieved_video/frame_0.png\")\n",
    "    print(decoded_message)"
   ]
  }
 ],
 "metadata": {
  "kernelspec": {
   "display_name": "myenv",
   "language": "python",
   "name": "python3"
  },
  "language_info": {
   "codemirror_mode": {
    "name": "ipython",
    "version": 3
   },
   "file_extension": ".py",
   "mimetype": "text/x-python",
   "name": "python",
   "nbconvert_exporter": "python",
   "pygments_lexer": "ipython3",
   "version": "3.10.13"
  }
 },
 "nbformat": 4,
 "nbformat_minor": 2
}
