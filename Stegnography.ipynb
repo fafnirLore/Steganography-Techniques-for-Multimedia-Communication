{
 "cells": [
  {
   "cell_type": "code",
   "execution_count": 4,
   "metadata": {},
   "outputs": [
    {
     "name": "stdout",
     "output_type": "stream",
     "text": [
      "The mode of the image is not RGB. Mode is L\n",
      "helllo there how is it going in there?\n"
     ]
    }
   ],
   "source": [
    "from stegano import lsb\n",
    "\n",
    "# Encoding a message in an image\n",
    "secret_message = input(\"Enter the message to be encoded: \")\n",
    "image = \"./input.png\"\n",
    "encoded_image = lsb.hide(image, secret_message)\n",
    "encoded_image.save(\"output_file.png\")\n",
    "\n",
    "# Decoding the message from the encoded image\n",
    "encoded_image = \"output_file.png\"\n",
    "decoded_message = lsb.reveal(encoded_image)\n",
    "print(decoded_message)\n"
   ]
  }
 ],
 "metadata": {
  "kernelspec": {
   "display_name": "myenv",
   "language": "python",
   "name": "python3"
  },
  "language_info": {
   "codemirror_mode": {
    "name": "ipython",
    "version": 3
   },
   "file_extension": ".py",
   "mimetype": "text/x-python",
   "name": "python",
   "nbconvert_exporter": "python",
   "pygments_lexer": "ipython3",
   "version": "3.10.13"
  }
 },
 "nbformat": 4,
 "nbformat_minor": 2
}
