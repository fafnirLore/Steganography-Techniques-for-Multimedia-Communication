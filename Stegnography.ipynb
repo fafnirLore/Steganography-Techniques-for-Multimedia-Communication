{
 "cells": [
  {
   "cell_type": "code",
   "execution_count": 4,
   "metadata": {},
   "outputs": [
    {
     "name": "stdout",
     "output_type": "stream",
     "text": [
      "The mode of the image is not RGB. Mode is L\n",
      "helllo there how is it going in there?\n"
     ]
    }
   ],
   "source": [
    "from stegano import lsb\n",
    "\n",
    "# Encoding a message in an image\n",
    "secret_message = input(\"Enter the message to be encoded: \")\n",
    "image = \"./input.png\"\n",
    "encoded_image = lsb.hide(image, secret_message,auto_convert_rgb=True)\n",
    "encoded_image.save(\"output_file.png\")\n",
    "\n",
    "# Decoding the message from the encoded image\n",
    "encoded_image = \"output_file.png\"\n",
    "decoded_message = lsb.reveal(encoded_image)\n",
    "print(decoded_message)\n"
   ]
  },
  {
   "cell_type": "code",
   "execution_count": 2,
   "metadata": {},
   "outputs": [
    {
     "ename": "UnidentifiedImageError",
     "evalue": "cannot identify image file 'C:/Users/farquleet/Desktop/Current/tip.mp4'",
     "output_type": "error",
     "traceback": [
      "\u001b[1;31m---------------------------------------------------------------------------\u001b[0m",
      "\u001b[1;31mUnidentifiedImageError\u001b[0m                    Traceback (most recent call last)",
      "\u001b[1;32mc:\\Users\\farquleet\\Desktop\\Current\\Semester 7\\IS\\Project\\Stegnography.ipynb Cell 2\u001b[0m line \u001b[0;36m1\n\u001b[0;32m      <a href='vscode-notebook-cell:/c%3A/Users/farquleet/Desktop/Current/Semester%207/IS/Project/Stegnography.ipynb#W1sZmlsZQ%3D%3D?line=7'>8</a>\u001b[0m output_path \u001b[39m=\u001b[39m \u001b[39m'\u001b[39m\u001b[39m./output_video.mp4\u001b[39m\u001b[39m'\u001b[39m\n\u001b[0;32m     <a href='vscode-notebook-cell:/c%3A/Users/farquleet/Desktop/Current/Semester%207/IS/Project/Stegnography.ipynb#W1sZmlsZQ%3D%3D?line=9'>10</a>\u001b[0m \u001b[39m# Hide the file within the video\u001b[39;00m\n\u001b[1;32m---> <a href='vscode-notebook-cell:/c%3A/Users/farquleet/Desktop/Current/Semester%207/IS/Project/Stegnography.ipynb#W1sZmlsZQ%3D%3D?line=10'>11</a>\u001b[0m Steganography\u001b[39m.\u001b[39;49mencode(video_path, output_path, msg)\n",
      "File \u001b[1;32mc:\\Users\\farquleet\\anaconda3\\envs\\myenv\\lib\\site-packages\\steganography\\steganography.py:159\u001b[0m, in \u001b[0;36mSteganography.encode\u001b[1;34m(cls, input_image_path, output_image_path, encode_text)\u001b[0m\n\u001b[0;32m    151\u001b[0m \u001b[39m@classmethod\u001b[39m\n\u001b[0;32m    152\u001b[0m \u001b[39mdef\u001b[39;00m \u001b[39mencode\u001b[39m(\u001b[39mcls\u001b[39m, input_image_path, output_image_path, encode_text):\n\u001b[0;32m    153\u001b[0m \u001b[39m    \u001b[39m\u001b[39m\"\"\"\u001b[39;00m\n\u001b[0;32m    154\u001b[0m \u001b[39m    hide text to image\u001b[39;00m\n\u001b[0;32m    155\u001b[0m \u001b[39m    :param input_image_path: str\u001b[39;00m\n\u001b[0;32m    156\u001b[0m \u001b[39m    :param output_image_path: str\u001b[39;00m\n\u001b[0;32m    157\u001b[0m \u001b[39m    :param encode_text: str\u001b[39;00m\n\u001b[0;32m    158\u001b[0m \u001b[39m    \"\"\"\u001b[39;00m\n\u001b[1;32m--> 159\u001b[0m     normalize(input_image_path, output_image_path)\n\u001b[0;32m    160\u001b[0m     hide_text(output_image_path, encode_text)\n\u001b[0;32m    161\u001b[0m     \u001b[39massert\u001b[39;00m read_text(output_image_path) \u001b[39m==\u001b[39m encode_text, read_text(output_image_path)\n",
      "File \u001b[1;32mc:\\Users\\farquleet\\anaconda3\\envs\\myenv\\lib\\site-packages\\steganography\\steganography.py:79\u001b[0m, in \u001b[0;36mnormalize\u001b[1;34m(path, output)\u001b[0m\n\u001b[0;32m     73\u001b[0m \u001b[39mdef\u001b[39;00m \u001b[39mnormalize\u001b[39m(path, output):\n\u001b[0;32m     74\u001b[0m \u001b[39m    \u001b[39m\u001b[39m\"\"\"\u001b[39;00m\n\u001b[0;32m     75\u001b[0m \u001b[39m    normalize image\u001b[39;00m\n\u001b[0;32m     76\u001b[0m \u001b[39m    :param path: str\u001b[39;00m\n\u001b[0;32m     77\u001b[0m \u001b[39m    :param output: str\u001b[39;00m\n\u001b[0;32m     78\u001b[0m \u001b[39m    \"\"\"\u001b[39;00m\n\u001b[1;32m---> 79\u001b[0m     img \u001b[39m=\u001b[39m Image\u001b[39m.\u001b[39;49mopen(path)\n\u001b[0;32m     80\u001b[0m     img \u001b[39m=\u001b[39m img\u001b[39m.\u001b[39mconvert(\u001b[39m'\u001b[39m\u001b[39mRGB\u001b[39m\u001b[39m'\u001b[39m)\n\u001b[0;32m     81\u001b[0m     size \u001b[39m=\u001b[39m img\u001b[39m.\u001b[39msize\n",
      "File \u001b[1;32mc:\\Users\\farquleet\\anaconda3\\envs\\myenv\\lib\\site-packages\\PIL\\Image.py:3298\u001b[0m, in \u001b[0;36mopen\u001b[1;34m(fp, mode, formats)\u001b[0m\n\u001b[0;32m   3296\u001b[0m     warnings\u001b[39m.\u001b[39mwarn(message)\n\u001b[0;32m   3297\u001b[0m msg \u001b[39m=\u001b[39m \u001b[39m\"\u001b[39m\u001b[39mcannot identify image file \u001b[39m\u001b[39m%r\u001b[39;00m\u001b[39m\"\u001b[39m \u001b[39m%\u001b[39m (filename \u001b[39mif\u001b[39;00m filename \u001b[39melse\u001b[39;00m fp)\n\u001b[1;32m-> 3298\u001b[0m \u001b[39mraise\u001b[39;00m UnidentifiedImageError(msg)\n",
      "\u001b[1;31mUnidentifiedImageError\u001b[0m: cannot identify image file 'C:/Users/farquleet/Desktop/Current/tip.mp4'"
     ]
    }
   ],
   "source": [
    "from steganography.steganography import Steganography\n",
    "\n",
    "# Specify the paths of the video file and the file to be hidden\n",
    "video_path = 'C:/Users/farquleet/Desktop/Current/tip.mp4'\n",
    "msg = \"hello\"\n",
    "\n",
    "# Specify the output video file path\n",
    "output_path = './output_video.mp4'\n",
    "\n",
    "# Hide the file within the video\n",
    "Steganography.encode(video_path, output_path, msg)"
   ]
  },
  {
   "cell_type": "code",
   "execution_count": null,
   "metadata": {},
   "outputs": [],
   "source": [
    "from steganography.steganography import Steganography\n",
    "\n",
    "# Specify the path of the video file with hidden data\n",
    "video_path = 'path/to/output_video.mp4'\n",
    "\n",
    "# Specify the output file path to save the extracted data\n",
    "output_path = 'path/to/extracted.txt'\n",
    "\n",
    "# Extract the hidden file from the video\n",
    "Steganography.decode(video_path, output_path)"
   ]
  }
 ],
 "metadata": {
  "kernelspec": {
   "display_name": "myenv",
   "language": "python",
   "name": "python3"
  },
  "language_info": {
   "codemirror_mode": {
    "name": "ipython",
    "version": 3
   },
   "file_extension": ".py",
   "mimetype": "text/x-python",
   "name": "python",
   "nbconvert_exporter": "python",
   "pygments_lexer": "ipython3",
   "version": "3.10.13"
  }
 },
 "nbformat": 4,
 "nbformat_minor": 2
}
